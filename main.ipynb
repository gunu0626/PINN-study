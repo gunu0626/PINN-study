{
 "cells": [
  {
   "cell_type": "code",
   "execution_count": null,
   "metadata": {},
   "outputs": [],
   "source": [
    "import tensorflow as tf\n",
    "import matplotlib.pyplot as plt\n",
    "import numpy as np\n",
    "from termcolor import colored"
   ]
  },
  {
   "cell_type": "code",
   "execution_count": null,
   "metadata": {},
   "outputs": [],
   "source": [
    "class Physics_Network(tf.keras.Model):\n",
    "    def __init__(self):\n",
    "        super(Physics_Network, self).__init__()\n",
    "        \n",
    "class Neural_Network(tf.keras.Model):\n",
    "    def __init__(self): \n",
    "        super(Neural_Network, self).__init__()\n",
    "        self.d1 = tf.keras.models.Dense(20, activation='tanh')\n",
    "        self.d2 = tf.keras.models.Dense(20, activation='tanh')\n",
    "        self.d3 = tf.keras.models.Dense(20, activation='tanh')\n",
    "        self.d4 = tf.keras.models.Dense(20, activation='tanh')\n",
    "        self.d5 = tf.keras.models.Dense(20, activation='tanh')\n",
    "        self.d6 = tf.keras.models.Dense(20, activation='tanh')\n",
    "        self.d7 = tf.keras.models.Dense(20, activation='tanh')\n",
    "        self.d8 = tf.keras.models.Dense(20, activation='tanh')\n",
    "        self.d9 = tf.keras.models.Dense(20, activation='tanh')\n",
    "        self.u = tf.keras.models.Dense(1, activation='linear')\n",
    "\n",
    "    def call(self, x):\n",
    "        x = self.d1(x)\n",
    "        x = self.d2(x)\n",
    "        x = self.d3(x)\n",
    "        x = self.d4(x)\n",
    "        x = self.d5(x)\n",
    "        x = self.d6(x)\n",
    "        x = self.d7(x)\n",
    "        x = self.d8(x)\n",
    "        x = self.d9(x)\n",
    "        out = self.u(x)\n",
    "        return out\n",
    "\n",
    "\n",
    "bc_num = 500\n",
    "col_num = 20000\n",
    "x_bc = np.linspace(-1, 1, bc_num).reshape((bc_num, 1))\n",
    "t_bc = np.linspace(0, 1, bc_num).reshape((bc_num, 1))\n",
    "xt_bc = tf.concat([x_bc, t_bc], axis=1)\n",
    "\n",
    "EPOCHS = 10\n",
    "LR = 0.01      "
   ]
  },
  {
   "cell_type": "code",
   "execution_count": null,
   "metadata": {},
   "outputs": [],
   "source": [
    "### instantiation learning objects\n",
    "model = Neural_Network()\n",
    "\n",
    "loss_object = tf.keras.losses.MeanSquaredError()\n",
    "optimizer = tf.keras.optimizers.SGD(learning_rate=LR)\n",
    "\n",
    "### learning\n",
    "for epoch in range(EPOCHS):\n",
    "    for x, y in zip(x_train, y_train):\n",
    "        x = tf.reshape(x, (1, 1))\n",
    "        with tf.GradientTape() as tape:\n",
    "            predictions = model(x)\n",
    "            loss = loss_object(y, predictions)\n",
    "\n",
    "        gradients = tape.gradient(loss, model.trainable_variables)\n",
    "        optimizer.apply_gradients(zip(gradients, model.trainable_variables))\n",
    "\n",
    "    print(colored('Epoch: ', 'red', 'on_white'), epoch + 1)\n",
    "\n",
    "    template = 'Train Loss: {:.4f}\\n'\n",
    "    print(template.format(loss))"
   ]
  }
 ],
 "metadata": {
  "interpreter": {
   "hash": "8c95c30e1a1b3f466662f4e32204536b44a8c1f1025c5df155ba56a73f6924e9"
  },
  "kernelspec": {
   "display_name": "Python 3.8.12 64-bit ('tf24': conda)",
   "language": "python",
   "name": "python3"
  },
  "language_info": {
   "codemirror_mode": {
    "name": "ipython",
    "version": 3
   },
   "file_extension": ".py",
   "mimetype": "text/x-python",
   "name": "python",
   "nbconvert_exporter": "python",
   "pygments_lexer": "ipython3",
   "version": "3.8.12"
  },
  "orig_nbformat": 4
 },
 "nbformat": 4,
 "nbformat_minor": 2
}
