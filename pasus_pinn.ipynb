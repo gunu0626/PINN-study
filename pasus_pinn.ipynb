{
 "cells": [
  {
   "cell_type": "code",
   "execution_count": 1,
   "metadata": {},
   "outputs": [],
   "source": [
    "# PINN for Burgers' equation\n",
    "# coded by St.Watermelon\n",
    "\n",
    "import tensorflow as tf\n",
    "from tensorflow.keras.models import Model\n",
    "from tensorflow.keras.layers import Dense\n",
    "from tensorflow.keras.optimizers import Adam\n",
    "import matplotlib.pyplot as plt\n",
    "import numpy as np\n",
    "\n",
    "class Burgers(Model):\n",
    "\n",
    "    def __init__(self):\n",
    "        super(Burgers, self).__init__()\n",
    "\n",
    "        self.h1 = Dense(20, activation='tanh')\n",
    "        self.h2 = Dense(20, activation='tanh')\n",
    "        self.h3 = Dense(20, activation='tanh')\n",
    "        self.h4 = Dense(20, activation='tanh')\n",
    "        self.h5 = Dense(20, activation='tanh')\n",
    "        self.h6 = Dense(20, activation='tanh')\n",
    "        self.u = Dense(1, activation='linear')\n",
    "\n",
    "\n",
    "    def call(self, state):\n",
    "        x = self.h1(state)\n",
    "        x = self.h2(x)\n",
    "        x = self.h3(x)\n",
    "        x = self.h4(x)\n",
    "        x = self.h5(x)\n",
    "        x = self.h6(x)\n",
    "        out = self.u(x)\n",
    "        return out\n",
    "\n",
    "\n",
    "class Pinn(object):\n",
    "\n",
    "    def __init__(self):\n",
    "\n",
    "        self.lr = 0.001\n",
    "        self.opt = Adam(self.lr)\n",
    "\n",
    "        self.burgers = Burgers()\n",
    "        self.burgers.build(input_shape=(None, 2))\n",
    "\n",
    "    def physics_net(self, xt):\n",
    "        x = xt[:, 0:1]\n",
    "        t = xt[:, 1:2]\n",
    "\n",
    "        with tf.GradientTape(persistent=True) as tape:\n",
    "            tape.watch(t)\n",
    "            tape.watch(x)\n",
    "            xt_t = tf.concat([x,t], axis=1)\n",
    "            u = self.burgers(xt_t)\n",
    "            u_x = tape.gradient(u, x)\n",
    "        u_xx = tape.gradient(u_x, x)\n",
    "        u_t = tape.gradient(u, t)\n",
    "        del tape\n",
    "\n",
    "        return u_t + u*u_x - (0.01/np.pi)*u_xx\n",
    "\n",
    "\n",
    "    def save_weights(self, path):\n",
    "        self.burgers.save_weights(path + 'burgers.h5')\n",
    "\n",
    "\n",
    "    def load_weights(self, path):\n",
    "        self.burgers.load_weights(path + 'burgers.h5')\n",
    "\n",
    "\n",
    "    def learn(self, xt_col, xt_bnd, tu_bnd):\n",
    "        with tf.GradientTape() as tape:\n",
    "            f = self.physics_net(xt_col)\n",
    "            loss_col = tf.reduce_mean(tf.square(f))\n",
    "\n",
    "            tu_bnd_hat = self.burgers(xt_bnd)\n",
    "            loss_bnd = tf.reduce_mean(tf.square(tu_bnd_hat-tu_bnd))\n",
    "\n",
    "            loss = loss_col + loss_bnd\n",
    "\n",
    "        grads = tape.gradient(loss, self.burgers.trainable_variables)\n",
    "        self.opt.apply_gradients(zip(grads, self.burgers.trainable_variables))\n",
    "\n",
    "        return loss\n",
    "\n",
    "\n",
    "    def predict(self, xt):\n",
    "        tu = self.burgers(xt)\n",
    "        return tu\n",
    "\n",
    "\n",
    "    def train(self, max_num):\n",
    "\n",
    "        # initial and boundary condition\n",
    "        x_data = np.linspace(-1.0, 1.0, 500)\n",
    "        t_data = np.linspace(0.0, 1.0, 500)\n",
    "        xt_bnd_data = []\n",
    "        tu_bnd_data = []\n",
    "\n",
    "        for x in x_data:\n",
    "            xt_bnd_data.append([x, 0])\n",
    "            tu_bnd_data.append([-np.sin(np.pi * x)])\n",
    "\n",
    "        for t in t_data:\n",
    "            xt_bnd_data.append([1, t])\n",
    "            tu_bnd_data.append([0])\n",
    "            xt_bnd_data.append([-1, t])\n",
    "            tu_bnd_data.append([0])\n",
    "\n",
    "        xt_bnd_data = np.array(xt_bnd_data)\n",
    "        tu_bnd_data = np.array(tu_bnd_data)\n",
    "\n",
    "        # collocation point\n",
    "        t_col_data = np.random.uniform(0, 1, [20000, 1])\n",
    "        x_col_data = np.random.uniform(-1, 1, [20000, 1])\n",
    "        xt_col_data = np.concatenate([x_col_data, t_col_data], axis=1)\n",
    "        xt_col_data = np.concatenate((xt_col_data, xt_bnd_data), axis=0)\n",
    "\n",
    "        train_loss_history = []\n",
    "\n",
    "        for iter in range(int(max_num)):\n",
    "\n",
    "            loss = self.learn(tf.convert_to_tensor(xt_col_data, dtype=tf.float32),\n",
    "                       tf.convert_to_tensor(xt_bnd_data, dtype=tf.float32),\n",
    "                       tf.convert_to_tensor(tu_bnd_data, dtype=tf.float32))\n",
    "\n",
    "            train_loss_history.append([iter, loss.numpy()])\n",
    "\n",
    "            print('iter=', iter, ', loss=', loss.numpy())\n",
    "\n",
    "        self.save_weights(\"./save_weights/\")\n",
    "\n",
    "        np.savetxt('./save_weights/loss.txt', train_loss_history)\n",
    "        train_loss_history = np.array(train_loss_history)\n",
    "\n",
    "        plt.plot(train_loss_history[:, 0], train_loss_history[:, 1])\n",
    "        plt.yscale(\"log\")\n",
    "        plt.show()"
   ]
  },
  {
   "cell_type": "code",
   "execution_count": 1,
   "metadata": {},
   "outputs": [
    {
     "ename": "NameError",
     "evalue": "name 'Pinn' is not defined",
     "output_type": "error",
     "traceback": [
      "\u001b[0;31m---------------------------------------------------------------------------\u001b[0m",
      "\u001b[0;31mNameError\u001b[0m                                 Traceback (most recent call last)",
      "\u001b[0;32m/var/folders/9s/gbb_6qvs7wd7z6b9bb_mnyx00000gn/T/ipykernel_16967/3660136467.py\u001b[0m in \u001b[0;36m<module>\u001b[0;34m\u001b[0m\n\u001b[1;32m      1\u001b[0m \u001b[0mmax_num\u001b[0m \u001b[0;34m=\u001b[0m \u001b[0;36m3000\u001b[0m\u001b[0;34m\u001b[0m\u001b[0;34m\u001b[0m\u001b[0m\n\u001b[0;32m----> 2\u001b[0;31m \u001b[0magent\u001b[0m \u001b[0;34m=\u001b[0m \u001b[0mPinn\u001b[0m\u001b[0;34m(\u001b[0m\u001b[0;34m)\u001b[0m\u001b[0;34m\u001b[0m\u001b[0;34m\u001b[0m\u001b[0m\n\u001b[0m\u001b[1;32m      3\u001b[0m \u001b[0magent\u001b[0m\u001b[0;34m.\u001b[0m\u001b[0mtrain\u001b[0m\u001b[0;34m(\u001b[0m\u001b[0mmax_num\u001b[0m\u001b[0;34m)\u001b[0m\u001b[0;34m\u001b[0m\u001b[0;34m\u001b[0m\u001b[0m\n",
      "\u001b[0;31mNameError\u001b[0m: name 'Pinn' is not defined"
     ]
    }
   ],
   "source": [
    "max_num = 3000\n",
    "agent = Pinn()\n",
    "agent.train(max_num)\n"
   ]
  },
  {
   "cell_type": "code",
   "execution_count": 31,
   "metadata": {},
   "outputs": [],
   "source": [
    "agent2 = Pinn()\n",
    "agent2.load_weights('./save_weights/')\n",
    "\n",
    "t1_test_data = 0.25*np.ones(1000).reshape(1000, 1)\n",
    "t2_test_data = 0.5*np.ones(1000).reshape(1000, 1)\n",
    "t3_test_data = 0.75*np.ones(1000).reshape(1000, 1)\n",
    "\n",
    "x_test_data = np.linspace(-1, 1, 1000).reshape(1000, 1)"
   ]
  },
  {
   "cell_type": "code",
   "execution_count": 32,
   "metadata": {},
   "outputs": [
    {
     "data": {
      "text/plain": [
       "[<matplotlib.lines.Line2D at 0x274d9d298b0>]"
      ]
     },
     "execution_count": 32,
     "metadata": {},
     "output_type": "execute_result"
    },
    {
     "data": {
      "image/png": "[encoded data removed]",
      "text/plain": [
       "<Figure size 864x288 with 3 Axes>"
      ]
     },
     "metadata": {
      "needs_background": "light"
     },
     "output_type": "display_data"
    }
   ],
   "source": [
    "plt.subplots(figsize=(12, 4))\n",
    "\n",
    "xt_test = np.concatenate([x_test_data, t1_test_data], axis=1)\n",
    "u_result = agent2.predict(xt_test)\n",
    "\n",
    "plt.subplot(1,3,1)\n",
    "plt.plot(x_test_data, u_result, 'r--')\n",
    "\n",
    "xt_test = np.concatenate([x_test_data, t2_test_data], axis=1)\n",
    "u_result = agent2.predict(xt_test)\n",
    "\n",
    "plt.subplot(1,3,2)\n",
    "plt.plot(x_test_data, u_result, 'r--')\n",
    "\n",
    "xt_test = np.concatenate([x_test_data, t3_test_data], axis=1)\n",
    "u_result = agent2.predict(xt_test)\n",
    "\n",
    "plt.subplot(1,3,3)\n",
    "plt.plot(x_test_data, u_result, 'r--')"
   ]
  },
  {
   "cell_type": "code",
   "execution_count": null,
   "metadata": {},
   "outputs": [],
   "source": []
  }
 ],
 "metadata": {
  "interpreter": {
   "hash": "4c310b10a5ac6204327519a0c0c4dc05e810a8fde8d7c83dde02b08af00fc21b"
  },
  "kernelspec": {
   "display_name": "Python 3.8.11 64-bit ('pyrl': conda)",
   "language": "python",
   "name": "python3"
  },
  "language_info": {
   "codemirror_mode": {
    "name": "ipython",
    "version": 3
   },
   "file_extension": ".py",
   "mimetype": "text/x-python",
   "name": "python",
   "nbconvert_exporter": "python",
   "pygments_lexer": "ipython3",
   "version": "3.8.12"
  },
  "orig_nbformat": 4
 },
 "nbformat": 4,
 "nbformat_minor": 2
}
